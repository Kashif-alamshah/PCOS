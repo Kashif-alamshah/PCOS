{
  "cells": [
    {
      "cell_type": "code",
      "execution_count": null,
      "metadata": {
        "id": "nsyUepKtddSK"
      },
      "outputs": [],
      "source": [
        "import os\n",
        "import zipfile\n",
        "import cv2\n",
        "import numpy as np\n",
        "import matplotlib.pyplot as plt\n",
        "import pandas as pd\n",
        "import tensorflow as tf\n",
        "import shutil\n",
        "import seaborn as sns\n",
        "from tensorflow.keras import layers, models\n",
        "from tensorflow.keras.preprocessing.image import ImageDataGenerator\n",
        "from sklearn.model_selection import train_test_split\n",
        "from sklearn.utils.class_weight import compute_class_weight\n",
        "from tensorflow.keras.callbacks import EarlyStopping\n",
        "from sklearn.metrics import classification_report, confusion_matrix, precision_recall_curve"
      ]
    },
    {
      "cell_type": "code",
      "execution_count": null,
      "metadata": {
        "id": "NYFWaPPSdhog"
      },
      "outputs": [],
      "source": [
        "zip_path = '/content/PCOS.zip'\n",
        "extract_to = '/content/PCOS'\n",
        "\n",
        "try:\n",
        "    with zipfile.ZipFile(zip_path, 'r') as zip_ref:\n",
        "        zip_ref.extractall(extract_to)\n",
        "    print(\"Extracted successfully!\")\n",
        "except zipfile.BadZipFile:\n",
        "    print(\"Still not a zip file. Try re-zipping or verifying locally.\")"
      ]
    },
    {
      "cell_type": "code",
      "execution_count": null,
      "metadata": {
        "id": "WtqTZNFcdlbJ"
      },
      "outputs": [],
      "source": [
        "base_dir = '/content/PCOS/PCOS/PCOS'\n",
        "train_dir = os.path.join(base_dir, 'train')\n",
        "val_dir = os.path.join(base_dir, 'validation')\n",
        "test_dir = os.path.join(base_dir, 'test')\n",
        "infected_dir = os.path.join(base_dir, 'infected')\n",
        "noninfected_dir = os.path.join(base_dir, 'noninfected')\n",
        "\n",
        "os.makedirs(train_dir, exist_ok=True)\n",
        "os.makedirs(val_dir, exist_ok=True)\n",
        "os.makedirs(test_dir, exist_ok=True)"
      ]
    },
    {
      "cell_type": "code",
      "execution_count": null,
      "metadata": {
        "id": "28nwUIWzdq2R"
      },
      "outputs": [],
      "source": [
        "infected_images = os.listdir(infected_dir)\n",
        "noninfected_images = os.listdir(noninfected_dir)\n",
        "\n",
        "all_images = infected_images + noninfected_images\n",
        "all_labels = [1] * len(infected_images) + [0] * len(noninfected_images)"
      ]
    },
    {
      "cell_type": "markdown",
      "metadata": {
        "id": "xU7xFx5JdvSa"
      },
      "source": [
        "# Train Test and Val split"
      ]
    },
    {
      "cell_type": "code",
      "execution_count": null,
      "metadata": {
        "id": "KPsehw3edr65"
      },
      "outputs": [],
      "source": [
        "train_images, test_images, train_labels, test_labels = train_test_split(\n",
        "    all_images, all_labels, test_size=0.2, random_state=42, stratify=all_labels\n",
        ")\n",
        "train_images, val_images, train_labels, val_labels = train_test_split(\n",
        "    train_images, train_labels, test_size=0.2, random_state=42, stratify=train_labels\n",
        ")"
      ]
    },
    {
      "cell_type": "markdown",
      "metadata": {
        "id": "L89Ba7gzd2KB"
      },
      "source": [
        "- Move files\n",
        "- Data Generators"
      ]
    },
    {
      "cell_type": "code",
      "execution_count": null,
      "metadata": {
        "id": "oyHk0ca1d-lJ"
      },
      "outputs": [],
      "source": [
        "def move_files(image_list, label_list, source_dir, target_dir):\n",
        "    for image, label in zip(image_list, label_list):\n",
        "        label_dir = 'infected' if label == 1 else 'noninfected'\n",
        "        source_path = os.path.join(source_dir, label_dir, image)\n",
        "        target_path = os.path.join(target_dir, label_dir, image)\n",
        "        os.makedirs(os.path.dirname(target_path), exist_ok=True)\n",
        "        if os.path.exists(source_path):\n",
        "            shutil.move(source_path, target_path)\n",
        "\n",
        "move_files(train_images, train_labels, base_dir, train_dir)\n",
        "move_files(val_images, val_labels, base_dir, val_dir)\n",
        "move_files(test_images, test_labels, base_dir, test_dir)\n",
        "\n",
        "train_datagen = ImageDataGenerator(\n",
        "    rescale=1./255,\n",
        "    rotation_range=10,\n",
        "    width_shift_range=0.1,\n",
        "    height_shift_range=0.1,\n",
        "    zoom_range=0.1,\n",
        "    horizontal_flip=True\n",
        ")\n",
        "val_datagen = ImageDataGenerator(rescale=1./255)\n",
        "test_datagen = ImageDataGenerator(rescale=1./255)\n",
        "\n",
        "train_generator = train_datagen.flow_from_directory(\n",
        "    train_dir, target_size=(224, 224), batch_size=32, class_mode='binary', shuffle=True\n",
        ")\n",
        "val_generator = val_datagen.flow_from_directory(\n",
        "    val_dir, target_size=(224, 224), batch_size=32, class_mode='binary', shuffle=False\n",
        ")\n",
        "test_generator = test_datagen.flow_from_directory(\n",
        "    test_dir, target_size=(224, 224), batch_size=32, class_mode='binary', shuffle=False\n",
        ")"
      ]
    },
    {
      "cell_type": "markdown",
      "metadata": {
        "id": "KtlIoPy3eG6a"
      },
      "source": [
        "- Class weights"
      ]
    },
    {
      "cell_type": "code",
      "execution_count": null,
      "metadata": {
        "id": "OseTt6X4eJKJ"
      },
      "outputs": [],
      "source": [
        "class_weights = compute_class_weight(\n",
        "    class_weight='balanced', classes=np.unique(train_labels), y=train_labels\n",
        ")\n",
        "class_weight_dict = {0: class_weights[0], 1: class_weights[1]}\n",
        "print(f\"Class Weights: {class_weight_dict}\")"
      ]
    },
    {
      "cell_type": "markdown",
      "metadata": {
        "id": "N9_pCkN2eMmq"
      },
      "source": [
        "# Model\n",
        "- `Early Stopping`\n",
        "- `Training`\n",
        "- `Predict on the validation set`"
      ]
    },
    {
      "cell_type": "code",
      "execution_count": 1,
      "metadata": {
        "colab": {
          "base_uri": "https://localhost:8080/",
          "height": 1000
        },
        "id": "eo6xY18vymOF",
        "outputId": "ea642c8a-6c94-47c8-e93f-306cad3a8645"
      },
      "outputs": [
        {
          "name": "stdout",
          "output_type": "stream",
          "text": [
            "✅ Extracted successfully!\n",
            "Found 7541 images belonging to 2 classes.\n",
            "Found 1886 images belonging to 2 classes.\n",
            "Found 2357 images belonging to 2 classes.\n",
            "Class Weights: {0: np.float64(1.17828125), 1: np.float64(0.86857866850956)}\n",
            "Downloading data from https://storage.googleapis.com/tensorflow/keras-applications/mobilenet_v2/mobilenet_v2_weights_tf_dim_ordering_tf_kernels_1.0_224_no_top.h5\n",
            "\u001b[1m9406464/9406464\u001b[0m \u001b[32m━━━━━━━━━━━━━━━━━━━━\u001b[0m\u001b[37m\u001b[0m \u001b[1m2s\u001b[0m 0us/step\n"
          ]
        },
        {
          "name": "stderr",
          "output_type": "stream",
          "text": [
            "/usr/local/lib/python3.11/dist-packages/keras/src/trainers/data_adapters/py_dataset_adapter.py:121: UserWarning: Your `PyDataset` class should call `super().__init__(**kwargs)` in its constructor. `**kwargs` can include `workers`, `use_multiprocessing`, `max_queue_size`. Do not pass these arguments to `fit()`, as they will be ignored.\n",
            "  self._warn_if_super_not_called()\n"
          ]
        },
        {
          "name": "stdout",
          "output_type": "stream",
          "text": [
            "Epoch 1/10\n",
            "\u001b[1m236/236\u001b[0m \u001b[32m━━━━━━━━━━━━━━━━━━━━\u001b[0m\u001b[37m\u001b[0m \u001b[1m121s\u001b[0m 465ms/step - accuracy: 0.8604 - loss: 0.2901 - val_accuracy: 0.9878 - val_loss: 0.0554\n",
            "Epoch 2/10\n",
            "\u001b[1m236/236\u001b[0m \u001b[32m━━━━━━━━━━━━━━━━━━━━\u001b[0m\u001b[37m\u001b[0m \u001b[1m99s\u001b[0m 418ms/step - accuracy: 0.9519 - loss: 0.1193 - val_accuracy: 0.9825 - val_loss: 0.0612\n",
            "Epoch 3/10\n",
            "\u001b[1m236/236\u001b[0m \u001b[32m━━━━━━━━━━━━━━━━━━━━\u001b[0m\u001b[37m\u001b[0m \u001b[1m97s\u001b[0m 411ms/step - accuracy: 0.9538 - loss: 0.1070 - val_accuracy: 0.9862 - val_loss: 0.0477\n",
            "Epoch 4/10\n",
            "\u001b[1m236/236\u001b[0m \u001b[32m━━━━━━━━━━━━━━━━━━━━\u001b[0m\u001b[37m\u001b[0m \u001b[1m96s\u001b[0m 407ms/step - accuracy: 0.9635 - loss: 0.0985 - val_accuracy: 0.9852 - val_loss: 0.0486\n",
            "Epoch 5/10\n",
            "\u001b[1m236/236\u001b[0m \u001b[32m━━━━━━━━━━━━━━━━━━━━\u001b[0m\u001b[37m\u001b[0m \u001b[1m100s\u001b[0m 423ms/step - accuracy: 0.9709 - loss: 0.0828 - val_accuracy: 0.9867 - val_loss: 0.0431\n",
            "Epoch 6/10\n",
            "\u001b[1m236/236\u001b[0m \u001b[32m━━━━━━━━━━━━━━━━━━━━\u001b[0m\u001b[37m\u001b[0m \u001b[1m99s\u001b[0m 419ms/step - accuracy: 0.9716 - loss: 0.0794 - val_accuracy: 0.9724 - val_loss: 0.0586\n",
            "Epoch 7/10\n",
            "\u001b[1m236/236\u001b[0m \u001b[32m━━━━━━━━━━━━━━━━━━━━\u001b[0m\u001b[37m\u001b[0m \u001b[1m97s\u001b[0m 412ms/step - accuracy: 0.9727 - loss: 0.0802 - val_accuracy: 0.9883 - val_loss: 0.0285\n",
            "Epoch 8/10\n",
            "\u001b[1m236/236\u001b[0m \u001b[32m━━━━━━━━━━━━━━━━━━━━\u001b[0m\u001b[37m\u001b[0m \u001b[1m98s\u001b[0m 417ms/step - accuracy: 0.9749 - loss: 0.0661 - val_accuracy: 0.9883 - val_loss: 0.0312\n",
            "Epoch 9/10\n",
            "\u001b[1m236/236\u001b[0m \u001b[32m━━━━━━━━━━━━━━━━━━━━\u001b[0m\u001b[37m\u001b[0m \u001b[1m98s\u001b[0m 413ms/step - accuracy: 0.9809 - loss: 0.0541 - val_accuracy: 0.9852 - val_loss: 0.0360\n",
            "Epoch 10/10\n",
            "\u001b[1m236/236\u001b[0m \u001b[32m━━━━━━━━━━━━━━━━━━━━\u001b[0m\u001b[37m\u001b[0m \u001b[1m143s\u001b[0m 418ms/step - accuracy: 0.9763 - loss: 0.0698 - val_accuracy: 0.9793 - val_loss: 0.0527\n",
            "\u001b[1m59/59\u001b[0m \u001b[32m━━━━━━━━━━━━━━━━━━━━\u001b[0m\u001b[37m\u001b[0m \u001b[1m11s\u001b[0m 130ms/step\n"
          ]
        },
        {
          "data": {
            "image/png": "[encoded data removed]",
            "text/plain": [
              "<Figure size 640x480 with 1 Axes>"
            ]
          },
          "metadata": {},
          "output_type": "display_data"
        },
        {
          "name": "stdout",
          "output_type": "stream",
          "text": [
            "Optimal Threshold: 0.828086256980896\n"
          ]
        },
        {
          "data": {
            "image/png": "[encoded data removed]",
            "text/plain": [
              "<Figure size 640x480 with 2 Axes>"
            ]
          },
          "metadata": {},
          "output_type": "display_data"
        },
        {
          "name": "stdout",
          "output_type": "stream",
          "text": [
            "              precision    recall  f1-score   support\n",
            "\n",
            "           0       0.99      1.00      1.00      1086\n",
            "           1       1.00      0.99      0.99       800\n",
            "\n",
            "    accuracy                           0.99      1886\n",
            "   macro avg       0.99      0.99      0.99      1886\n",
            "weighted avg       0.99      0.99      0.99      1886\n",
            "\n"
          ]
        }
      ],
      "source": [
        "base_model = tf.keras.applications.MobileNetV2(input_shape=(224, 224, 3),\n",
        "                                               include_top=False,\n",
        "                                               weights='imagenet')\n",
        "base_model.trainable = False\n",
        "\n",
        "model = models.Sequential([\n",
        "    base_model,\n",
        "    layers.GlobalAveragePooling2D(),\n",
        "    layers.Dense(64, activation='relu'),\n",
        "    layers.Dropout(0.5),\n",
        "    layers.Dense(1, activation='sigmoid')\n",
        "])\n",
        "\n",
        "model.compile(optimizer='adam', loss='binary_crossentropy', metrics=['accuracy'])\n",
        "early_stop = EarlyStopping(patience=5, restore_best_weights=True)\n",
        "\n",
        "history = model.fit(\n",
        "    train_generator,\n",
        "    epochs=10,\n",
        "    validation_data=val_generator,\n",
        "    class_weight=class_weight_dict,\n",
        "    callbacks=[early_stop]\n",
        ")\n",
        "val_predictions = model.predict(val_generator)\n",
        "y_true = val_generator.classes"
      ]
    },
    {
      "cell_type": "markdown",
      "metadata": {
        "id": "i2M9KgZle-3p"
      },
      "source": [
        "# Metrics and Report"
      ]
    },
    {
      "cell_type": "code",
      "execution_count": null,
      "metadata": {
        "id": "0Zwc7yNee68C"
      },
      "outputs": [],
      "source": [
        "precision, recall, thresholds = precision_recall_curve(y_true, val_predictions)\n",
        "plt.plot(thresholds, precision[:-1], label='Precision')\n",
        "plt.plot(thresholds, recall[:-1], label='Recall')\n",
        "plt.xlabel('Threshold')\n",
        "plt.ylabel('Score')\n",
        "plt.legend()\n",
        "plt.title('Precision-Recall Curve')\n",
        "plt.show()\n",
        "f1_scores = 2 * (precision * recall) / (precision + recall)\n",
        "optimal_threshold = thresholds[np.argmax(f1_scores)]\n",
        "print(f\"Optimal Threshold: {optimal_threshold}\")\n",
        "y_pred = (val_predictions > optimal_threshold).astype(int)\n",
        "cm = confusion_matrix(y_true, y_pred)\n",
        "sns.heatmap(cm, annot=True, fmt='d', cmap='Blues',\n",
        "            xticklabels=['Noninfected', 'Infected'],\n",
        "            yticklabels=['Noninfected', 'Infected'])\n",
        "plt.xlabel('Predicted')\n",
        "plt.ylabel('True')\n",
        "plt.title('Confusion Matrix')\n",
        "plt.show()\n",
        "print(classification_report(y_true, y_pred))"
      ]
    },
    {
      "cell_type": "code",
      "execution_count": 2,
      "metadata": {
        "colab": {
          "base_uri": "https://localhost:8080/"
        },
        "id": "FqBe_MSd5_du",
        "outputId": "c6596aab-b7d6-4879-869a-e66bdf986848"
      },
      "outputs": [
        {
          "name": "stderr",
          "output_type": "stream",
          "text": [
            "/usr/local/lib/python3.11/dist-packages/keras/src/trainers/data_adapters/py_dataset_adapter.py:121: UserWarning: Your `PyDataset` class should call `super().__init__(**kwargs)` in its constructor. `**kwargs` can include `workers`, `use_multiprocessing`, `max_queue_size`. Do not pass these arguments to `fit()`, as they will be ignored.\n",
            "  self._warn_if_super_not_called()\n"
          ]
        },
        {
          "name": "stdout",
          "output_type": "stream",
          "text": [
            "\u001b[1m74/74\u001b[0m \u001b[32m━━━━━━━━━━━━━━━━━━━━\u001b[0m\u001b[37m\u001b[0m \u001b[1m9s\u001b[0m 116ms/step\n",
            "Classification Report on Test Set:\n",
            "              precision    recall  f1-score   support\n",
            "\n",
            "    infected       1.00      1.00      1.00      1357\n",
            " noninfected       1.00      0.99      0.99      1000\n",
            "\n",
            "    accuracy                           1.00      2357\n",
            "   macro avg       1.00      1.00      1.00      2357\n",
            "weighted avg       1.00      1.00      1.00      2357\n",
            "\n",
            "Confusion Matrix:\n",
            " [[1353    4]\n",
            " [   6  994]]\n"
          ]
        }
      ],
      "source": [
        "test_generator.reset()\n",
        "test_preds = model.predict(test_generator, verbose=1)\n",
        "test_preds_binary = (test_preds > optimal_threshold).astype(int).flatten()\n",
        "test_labels = test_generator.classes\n",
        "print(\"Classification Report on Test Set:\")\n",
        "print(classification_report(test_labels, test_preds_binary, target_names=test_generator.class_indices.keys()))\n",
        "cm = confusion_matrix(test_labels, test_preds_binary)\n",
        "print(\"Confusion Matrix:\\n\", cm)"
      ]
    },
    {
      "cell_type": "markdown",
      "metadata": {
        "id": "m8ulBiUgfLOS"
      },
      "source": [
        "# Save model"
      ]
    },
    {
      "cell_type": "code",
      "execution_count": 3,
      "metadata": {
        "colab": {
          "base_uri": "https://localhost:8080/"
        },
        "id": "wBT5uawCOrxs",
        "outputId": "1785203e-9060-42a0-dba2-f375d8d4e233"
      },
      "outputs": [
        {
          "name": "stderr",
          "output_type": "stream",
          "text": [
            "WARNING:absl:You are saving your model as an HDF5 file via `model.save()` or `keras.saving.save_model(model)`. This file format is considered legacy. We recommend using instead the native Keras format, e.g. `model.save('my_model.keras')` or `keras.saving.save_model(model, 'my_model.keras')`. \n",
            "WARNING:absl:Compiled the loaded model, but the compiled metrics have yet to be built. `model.compile_metrics` will be empty until you train or evaluate the model.\n"
          ]
        }
      ],
      "source": [
        "model.save('pcos_model.h5')"
      ]
    }
  ],
  "metadata": {
    "accelerator": "GPU",
    "colab": {
      "gpuType": "T4",
      "provenance": []
    },
    "kernelspec": {
      "display_name": "Python 3",
      "name": "python3"
    },
    "language_info": {
      "name": "python"
    }
  },
  "nbformat": 4,
  "nbformat_minor": 0
}
